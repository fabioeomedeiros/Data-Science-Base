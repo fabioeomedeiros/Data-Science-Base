{
  "nbformat": 4,
  "nbformat_minor": 0,
  "metadata": {
    "colab": {
      "name": "01_Numpy.ipynb",
      "provenance": [],
      "collapsed_sections": [],
      "authorship_tag": "ABX9TyOZTtMNV88g40VfTvbjc3HG",
      "include_colab_link": true
    },
    "kernelspec": {
      "name": "python3",
      "display_name": "Python 3"
    },
    "language_info": {
      "name": "python"
    }
  },
  "cells": [
    {
      "cell_type": "markdown",
      "metadata": {
        "id": "view-in-github",
        "colab_type": "text"
      },
      "source": [
        "<a href=\"https://colab.research.google.com/github/fabioeomedeiros/Data-Science-Base/blob/main/01_Numpy.ipynb\" target=\"_parent\"><img src=\"https://colab.research.google.com/assets/colab-badge.svg\" alt=\"Open In Colab\"/></a>"
      ]
    },
    {
      "cell_type": "markdown",
      "metadata": {
        "id": "FH0muEMf7H71"
      },
      "source": [
        "## Biblioteca Numpy"
      ]
    },
    {
      "cell_type": "code",
      "metadata": {
        "colab": {
          "base_uri": "https://localhost:8080/"
        },
        "id": "Ief7RLegkJJr",
        "outputId": "2b80c54a-3345-48b9-a9e4-3729dcfad9d4"
      },
      "source": [
        "import numpy as np\n",
        "A = np.array([1,2,3])\n",
        "print(A)\n",
        "print(type(A))"
      ],
      "execution_count": null,
      "outputs": [
        {
          "output_type": "stream",
          "name": "stdout",
          "text": [
            "[1 2 3]\n",
            "<class 'numpy.ndarray'>\n"
          ]
        }
      ]
    },
    {
      "cell_type": "code",
      "metadata": {
        "colab": {
          "base_uri": "https://localhost:8080/"
        },
        "id": "Om91EHZF7G_W",
        "outputId": "ac5a9c31-4a76-4454-e9cd-053fe03fa735"
      },
      "source": [
        "B = np.array([[0,5,7], [11,6,5], [9,4,1]])\n",
        "print(B)\n",
        "print(type(B))"
      ],
      "execution_count": null,
      "outputs": [
        {
          "output_type": "stream",
          "name": "stdout",
          "text": [
            "[[ 0  5  7]\n",
            " [11  6  5]\n",
            " [ 9  4  1]]\n",
            "<class 'numpy.ndarray'>\n"
          ]
        }
      ]
    },
    {
      "cell_type": "markdown",
      "metadata": {
        "id": "G30HhYQX8-1J"
      },
      "source": [
        "### Matriz de zeros"
      ]
    },
    {
      "cell_type": "code",
      "metadata": {
        "colab": {
          "base_uri": "https://localhost:8080/"
        },
        "id": "Qqigu45l8WBT",
        "outputId": "6b6bce9d-5a2b-45a9-855f-6e5a1b28667c"
      },
      "source": [
        "C = np.zeros((3,4))\n",
        "print(C)\n",
        "print(type(C))"
      ],
      "execution_count": null,
      "outputs": [
        {
          "output_type": "stream",
          "name": "stdout",
          "text": [
            "[[0. 0. 0. 0.]\n",
            " [0. 0. 0. 0.]\n",
            " [0. 0. 0. 0.]]\n",
            "<class 'numpy.ndarray'>\n"
          ]
        }
      ]
    },
    {
      "cell_type": "markdown",
      "metadata": {
        "id": "r6C8Xltn9CAB"
      },
      "source": [
        "### Matriz identidade"
      ]
    },
    {
      "cell_type": "code",
      "metadata": {
        "colab": {
          "base_uri": "https://localhost:8080/"
        },
        "id": "8wSlOjvq9Ekt",
        "outputId": "df8f46f5-de89-47b4-8d46-ab97d43e2c33"
      },
      "source": [
        "I = np.eye(10)\n",
        "print(I)\n",
        "print(type(I))"
      ],
      "execution_count": null,
      "outputs": [
        {
          "output_type": "stream",
          "name": "stdout",
          "text": [
            "[[1. 0. 0. 0. 0. 0. 0. 0. 0. 0.]\n",
            " [0. 1. 0. 0. 0. 0. 0. 0. 0. 0.]\n",
            " [0. 0. 1. 0. 0. 0. 0. 0. 0. 0.]\n",
            " [0. 0. 0. 1. 0. 0. 0. 0. 0. 0.]\n",
            " [0. 0. 0. 0. 1. 0. 0. 0. 0. 0.]\n",
            " [0. 0. 0. 0. 0. 1. 0. 0. 0. 0.]\n",
            " [0. 0. 0. 0. 0. 0. 1. 0. 0. 0.]\n",
            " [0. 0. 0. 0. 0. 0. 0. 1. 0. 0.]\n",
            " [0. 0. 0. 0. 0. 0. 0. 0. 1. 0.]\n",
            " [0. 0. 0. 0. 0. 0. 0. 0. 0. 1.]]\n",
            "<class 'numpy.ndarray'>\n"
          ]
        }
      ]
    },
    {
      "cell_type": "markdown",
      "metadata": {
        "id": "QEWUvumpBIpq"
      },
      "source": [
        "### Métodos em Arrays"
      ]
    },
    {
      "cell_type": "code",
      "metadata": {
        "colab": {
          "base_uri": "https://localhost:8080/"
        },
        "id": "IAI_vwbIBOdZ",
        "outputId": "e8747ec3-fdbd-413c-cf06-2e11d339933d"
      },
      "source": [
        "print(\"B = \")\n",
        "print(B)\n",
        "print()\n",
        "print(f\"Maior = {B.max()}\") #Maior elemento do Array\n",
        "print(f\"Menor = {B.min()}\") #Menor elemento do Array\n",
        "print(f\"Soma = {B.sum()}\") #Soma dos elementos do array\n",
        "print(f\"Média = {B.mean():.2f}\") #Média dos elementos do array\n",
        "print(f\"Desvio Padrão = {B.std():.2f}\") #Desvio padrão dos elementos do array\n",
        "\n"
      ],
      "execution_count": null,
      "outputs": [
        {
          "output_type": "stream",
          "name": "stdout",
          "text": [
            "B = \n",
            "[[ 0  5  7]\n",
            " [11  6  5]\n",
            " [ 9  4  1]]\n",
            "\n",
            "Maior = 11\n",
            "Menor = 0\n",
            "Soma = 48\n",
            "Média = 5.33\n",
            "Desvio Padrão = 3.30\n"
          ]
        }
      ]
    }
  ]
}