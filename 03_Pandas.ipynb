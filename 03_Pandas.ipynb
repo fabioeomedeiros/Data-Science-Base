{
  "nbformat": 4,
  "nbformat_minor": 0,
  "metadata": {
    "colab": {
      "name": "03_Pandas.ipynb",
      "provenance": [],
      "collapsed_sections": [],
      "authorship_tag": "ABX9TyN5zy/2RI7LsobymHXELpDb",
      "include_colab_link": true
    },
    "kernelspec": {
      "name": "python3",
      "display_name": "Python 3"
    },
    "language_info": {
      "name": "python"
    }
  },
  "cells": [
    {
      "cell_type": "markdown",
      "metadata": {
        "id": "view-in-github",
        "colab_type": "text"
      },
      "source": [
        "<a href=\"https://colab.research.google.com/github/fabioeomedeiros/Data-Science-Base/blob/main/03_Pandas.ipynb\" target=\"_parent\"><img src=\"https://colab.research.google.com/assets/colab-badge.svg\" alt=\"Open In Colab\"/></a>"
      ]
    },
    {
      "cell_type": "markdown",
      "metadata": {
        "id": "bI_sAwlCXcYR"
      },
      "source": [
        "## Biblioteca Pandas"
      ]
    },
    {
      "cell_type": "code",
      "metadata": {
        "colab": {
          "base_uri": "https://localhost:8080/"
        },
        "id": "JK7mmBr1XYUW",
        "outputId": "01411e56-53e3-4465-cfbb-2ca5afab2015"
      },
      "source": [
        "import pandas as pd\n",
        "import numpy as np\n",
        "\n",
        "\n",
        "alunos = {'Nome': ['Ricardo', 'Pedro', 'Roberto', 'Carlos'],\n",
        "          'Notas': [4.2, 7.8, 5.5, 9.0],\n",
        "          'Aprovado': ['N', 'S', 'N', 'S']}\n",
        "\n",
        "print(alunos)"
      ],
      "execution_count": null,
      "outputs": [
        {
          "output_type": "stream",
          "name": "stdout",
          "text": [
            "{'Nome': ['Ricardo', 'Pedro', 'Roberto', 'Carlos'], 'Notas': [4.2, 7.8, 5.5, 9.0], 'Aprovado': ['N', 'S', 'N', 'S']}\n"
          ]
        }
      ]
    },
    {
      "cell_type": "markdown",
      "metadata": {
        "id": "3BqUG3Drc9-6"
      },
      "source": [
        "### Data Frame"
      ]
    },
    {
      "cell_type": "code",
      "metadata": {
        "colab": {
          "base_uri": "https://localhost:8080/"
        },
        "id": "_bQV0fILYNd0",
        "outputId": "73485a8c-f25a-4896-a380-87dd56b0e98b"
      },
      "source": [
        "DF_alunos = pd.DataFrame(alunos)\n",
        "print(DF_alunos)"
      ],
      "execution_count": null,
      "outputs": [
        {
          "output_type": "stream",
          "name": "stdout",
          "text": [
            "      Nome  Notas Aprovado\n",
            "0  Ricardo    4.2        N\n",
            "1    Pedro    7.8        S\n",
            "2  Roberto    5.5        N\n",
            "3   Carlos    9.0        S\n"
          ]
        }
      ]
    },
    {
      "cell_type": "markdown",
      "metadata": {
        "id": "2spBPhbCdBrw"
      },
      "source": [
        "### Séreis"
      ]
    },
    {
      "cell_type": "code",
      "metadata": {
        "colab": {
          "base_uri": "https://localhost:8080/"
        },
        "id": "WT8LDeR6b0gX",
        "outputId": "0823c962-1891-43d7-ef43-c270e2005790"
      },
      "source": [
        "objeto1 = pd.Series([7, 5, 9, 17, 19])\n",
        "print(objeto1)"
      ],
      "execution_count": null,
      "outputs": [
        {
          "output_type": "stream",
          "name": "stdout",
          "text": [
            "0     7\n",
            "1     5\n",
            "2     9\n",
            "3    17\n",
            "4    19\n",
            "dtype: int64\n"
          ]
        }
      ]
    },
    {
      "cell_type": "code",
      "metadata": {
        "colab": {
          "base_uri": "https://localhost:8080/"
        },
        "id": "HiqcrmchdEmg",
        "outputId": "655f3413-c938-4510-aa0b-e856b8663cff"
      },
      "source": [
        "AR_vetor1 = np.array([7, 5, 9, 17, 19])\n",
        "AR_vetor2 = np.array([[7, 5, 9, 17, 19], [19, 17, 5, 9, 7]])\n",
        "print(AR_vetor1)\n",
        "print(AR_vetor2)"
      ],
      "execution_count": null,
      "outputs": [
        {
          "output_type": "stream",
          "name": "stdout",
          "text": [
            "[ 7  5  9 17 19]\n",
            "[[ 7  5  9 17 19]\n",
            " [19 17  5  9  7]]\n"
          ]
        }
      ]
    },
    {
      "cell_type": "code",
      "metadata": {
        "colab": {
          "base_uri": "https://localhost:8080/"
        },
        "id": "z_Tn0ngZfDq7",
        "outputId": "94991e0b-b001-4ac9-b1b6-01692d0bb265"
      },
      "source": [
        "objeto2 = pd.Series(AR_vetor1)\n",
        "print(objeto2)"
      ],
      "execution_count": null,
      "outputs": [
        {
          "output_type": "stream",
          "name": "stdout",
          "text": [
            "0     7\n",
            "1     5\n",
            "2     9\n",
            "3    17\n",
            "4    19\n",
            "dtype: int64\n"
          ]
        }
      ]
    },
    {
      "cell_type": "code",
      "metadata": {
        "id": "NXxtq6yifp6A"
      },
      "source": [
        ""
      ],
      "execution_count": null,
      "outputs": []
    }
  ]
}