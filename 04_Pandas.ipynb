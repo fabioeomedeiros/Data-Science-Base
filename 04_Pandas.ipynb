{
  "nbformat": 4,
  "nbformat_minor": 0,
  "metadata": {
    "colab": {
      "name": "04_Pandas.ipynb",
      "provenance": [],
      "collapsed_sections": [],
      "authorship_tag": "ABX9TyPuxtd8DRp8Hf/stpb1tOzy",
      "include_colab_link": true
    },
    "kernelspec": {
      "name": "python3",
      "display_name": "Python 3"
    },
    "language_info": {
      "name": "python"
    }
  },
  "cells": [
    {
      "cell_type": "markdown",
      "metadata": {
        "id": "view-in-github",
        "colab_type": "text"
      },
      "source": [
        "<a href=\"https://colab.research.google.com/github/fabioeomedeiros/Data-Science-Base/blob/main/04_Pandas.ipynb\" target=\"_parent\"><img src=\"https://colab.research.google.com/assets/colab-badge.svg\" alt=\"Open In Colab\"/></a>"
      ]
    },
    {
      "cell_type": "markdown",
      "metadata": {
        "id": "X1g5ySprmExO"
      },
      "source": [
        "## Data Frame"
      ]
    },
    {
      "cell_type": "code",
      "metadata": {
        "colab": {
          "base_uri": "https://localhost:8080/"
        },
        "id": "g6dwYHTChpqw",
        "outputId": "2a513866-2635-473a-d7da-77cf657df1ae"
      },
      "source": [
        "import pandas as pd\n",
        "import numpy as np\n",
        "\n",
        "\n",
        "alunos_dict = {'Nome': ['Ricardo', 'Pedro', 'Roberto', 'Carlos'],\n",
        "               'Notas': [4.0, 9.0, 5.5, 9.0],\n",
        "               'Aprovado': ['N', 'S', 'N', 'S']}\n",
        "print(alunos_dict)\n",
        "print(type(alunos_dict))"
      ],
      "execution_count": 26,
      "outputs": [
        {
          "output_type": "stream",
          "name": "stdout",
          "text": [
            "{'Nome': ['Ricardo', 'Pedro', 'Roberto', 'Carlos'], 'Notas': [4.0, 9.0, 5.5, 9.0], 'Aprovado': ['N', 'S', 'N', 'S']}\n",
            "<class 'dict'>\n"
          ]
        }
      ]
    },
    {
      "cell_type": "code",
      "metadata": {
        "colab": {
          "base_uri": "https://localhost:8080/"
        },
        "id": "mTOkbHWajO8f",
        "outputId": "cbf780fc-ff57-41bc-ea45-6416beb3888c"
      },
      "source": [
        "alunos_df = pd.DataFrame(alunos_dict)\n",
        "print(alunos_df)\n",
        "print(type(alunos_df))"
      ],
      "execution_count": 27,
      "outputs": [
        {
          "output_type": "stream",
          "name": "stdout",
          "text": [
            "      Nome  Notas Aprovado\n",
            "0  Ricardo    4.0        N\n",
            "1    Pedro    9.0        S\n",
            "2  Roberto    5.5        N\n",
            "3   Carlos    9.0        S\n",
            "<class 'pandas.core.frame.DataFrame'>\n"
          ]
        }
      ]
    },
    {
      "cell_type": "markdown",
      "metadata": {
        "id": "7CHp91S2mAUY"
      },
      "source": [
        "### Funções de Data Frame"
      ]
    },
    {
      "cell_type": "code",
      "metadata": {
        "colab": {
          "base_uri": "https://localhost:8080/"
        },
        "id": "Pp02fRupk9xv",
        "outputId": "d63b51e3-4460-4073-f41d-9351131d2549"
      },
      "source": [
        "print(alunos_df)\n",
        "print(alunos_df.shape) #número de linhas e colunas do Data Frame\n",
        "print(alunos_df.describe()) #exibe estatísticas do Data Frame"
      ],
      "execution_count": 28,
      "outputs": [
        {
          "output_type": "stream",
          "name": "stdout",
          "text": [
            "      Nome  Notas Aprovado\n",
            "0  Ricardo    4.0        N\n",
            "1    Pedro    9.0        S\n",
            "2  Roberto    5.5        N\n",
            "3   Carlos    9.0        S\n",
            "(4, 3)\n",
            "          Notas\n",
            "count  4.000000\n",
            "mean   6.875000\n",
            "std    2.528998\n",
            "min    4.000000\n",
            "25%    5.125000\n",
            "50%    7.250000\n",
            "75%    9.000000\n",
            "max    9.000000\n"
          ]
        }
      ]
    },
    {
      "cell_type": "markdown",
      "metadata": {
        "id": "GUEewi9pnwMj"
      },
      "source": [
        "### Filtros Linhas e Colunas"
      ]
    },
    {
      "cell_type": "code",
      "metadata": {
        "colab": {
          "base_uri": "https://localhost:8080/"
        },
        "id": "aYNcmvsgnvt0",
        "outputId": "2a0a8cf8-2200-4700-9479-6950cdea39db"
      },
      "source": [
        "print(alunos_df['Nome']) #Filtra coluna pela chave"
      ],
      "execution_count": 29,
      "outputs": [
        {
          "output_type": "stream",
          "name": "stdout",
          "text": [
            "0    Ricardo\n",
            "1      Pedro\n",
            "2    Roberto\n",
            "3     Carlos\n",
            "Name: Nome, dtype: object\n"
          ]
        }
      ]
    },
    {
      "cell_type": "code",
      "metadata": {
        "colab": {
          "base_uri": "https://localhost:8080/"
        },
        "id": "3f3a--97oiMW",
        "outputId": "579d77a3-fc47-49d7-f346-34ce52919f39"
      },
      "source": [
        "print(alunos_df.loc[[0]]) #Filtra linha pela função loc() e índice(s) da(s) linha(s)\n",
        "print(alunos_df.loc[[1, 3]])\n",
        "print(alunos_df.loc[[2, 0]])\n",
        "print(alunos_df.loc[0:2])"
      ],
      "execution_count": 30,
      "outputs": [
        {
          "output_type": "stream",
          "name": "stdout",
          "text": [
            "      Nome  Notas Aprovado\n",
            "0  Ricardo    4.0        N\n",
            "     Nome  Notas Aprovado\n",
            "1   Pedro    9.0        S\n",
            "3  Carlos    9.0        S\n",
            "      Nome  Notas Aprovado\n",
            "2  Roberto    5.5        N\n",
            "0  Ricardo    4.0        N\n",
            "      Nome  Notas Aprovado\n",
            "0  Ricardo    4.0        N\n",
            "1    Pedro    9.0        S\n",
            "2  Roberto    5.5        N\n"
          ]
        }
      ]
    },
    {
      "cell_type": "code",
      "metadata": {
        "colab": {
          "base_uri": "https://localhost:8080/",
          "height": 111
        },
        "id": "lW0Y2THwp1E-",
        "outputId": "9b8d006c-9d05-48b8-bc64-e9f12b596379"
      },
      "source": [
        "alunos_df.loc[alunos_df['Notas'] == 9] #Filtra linha atravéz de chave"
      ],
      "execution_count": 31,
      "outputs": [
        {
          "output_type": "execute_result",
          "data": {
            "text/html": [
              "<div>\n",
              "<style scoped>\n",
              "    .dataframe tbody tr th:only-of-type {\n",
              "        vertical-align: middle;\n",
              "    }\n",
              "\n",
              "    .dataframe tbody tr th {\n",
              "        vertical-align: top;\n",
              "    }\n",
              "\n",
              "    .dataframe thead th {\n",
              "        text-align: right;\n",
              "    }\n",
              "</style>\n",
              "<table border=\"1\" class=\"dataframe\">\n",
              "  <thead>\n",
              "    <tr style=\"text-align: right;\">\n",
              "      <th></th>\n",
              "      <th>Nome</th>\n",
              "      <th>Notas</th>\n",
              "      <th>Aprovado</th>\n",
              "    </tr>\n",
              "  </thead>\n",
              "  <tbody>\n",
              "    <tr>\n",
              "      <th>1</th>\n",
              "      <td>Pedro</td>\n",
              "      <td>9.0</td>\n",
              "      <td>S</td>\n",
              "    </tr>\n",
              "    <tr>\n",
              "      <th>3</th>\n",
              "      <td>Carlos</td>\n",
              "      <td>9.0</td>\n",
              "      <td>S</td>\n",
              "    </tr>\n",
              "  </tbody>\n",
              "</table>\n",
              "</div>"
            ],
            "text/plain": [
              "     Nome  Notas Aprovado\n",
              "1   Pedro    9.0        S\n",
              "3  Carlos    9.0        S"
            ]
          },
          "metadata": {},
          "execution_count": 31
        }
      ]
    }
  ]
}